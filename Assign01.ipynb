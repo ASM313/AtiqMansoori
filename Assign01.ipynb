{
  "nbformat": 4,
  "nbformat_minor": 0,
  "metadata": {
    "colab": {
      "name": "Assign01.ipynb",
      "provenance": [],
      "collapsed_sections": [],
      "authorship_tag": "ABX9TyOLxBo4ay2xj7kxfnZsxVcb",
      "include_colab_link": true
    },
    "kernelspec": {
      "display_name": "Python 3",
      "name": "python3"
    },
    "language_info": {
      "name": "python"
    }
  },
  "cells": [
    {
      "cell_type": "markdown",
      "metadata": {
        "id": "view-in-github",
        "colab_type": "text"
      },
      "source": [
        "<a href=\"https://colab.research.google.com/github/ASM313/AtiqMansoori/blob/main/Assign01.ipynb\" target=\"_parent\"><img src=\"https://colab.research.google.com/assets/colab-badge.svg\" alt=\"Open In Colab\"/></a>"
      ]
    },
    {
      "cell_type": "markdown",
      "metadata": {
        "id": "6xDvXTccnFQ7"
      },
      "source": [
        "Totaler Menu"
      ]
    },
    {
      "cell_type": "code",
      "metadata": {
        "colab": {
          "base_uri": "https://localhost:8080/",
          "height": 537
        },
        "id": "7BzVyB-9nSzR",
        "outputId": "153a159c-acf6-4a9e-8f20-41de2a785259"
      },
      "source": [
        "total=0\n",
        "while True :\n",
        "\n",
        " print(\"Please Enter price or Press 'q'/'Q' ?\")\n",
        " user_input=input()\n",
        "\n",
        " if(user_input=='q'):\n",
        "   print(\"You exit the process\")\n",
        "\n",
        "   print(\"Total bill is :-\",total)\n",
        "   break\n",
        "\n",
        " else:\n",
        "   user_input=float(user_input)\n",
        "   \n",
        "   print(\"Last entered price is   :- \",user_input)\n",
        "   total=total+user_input\n",
        "   \n",
        "   print(\"Total till last item is :-\",total)"
      ],
      "execution_count": null,
      "outputs": [
        {
          "output_type": "stream",
          "text": [
            "Please Enter price or Press 'q'/'Q' ?\n",
            "50.2\n",
            "Last entered price is   :-  50.2\n",
            "Total till last item is :- 50.2\n",
            "Please Enter price or Press 'q'/'Q' ?\n",
            "58.2\n",
            "Last entered price is   :-  58.2\n",
            "Total till last item is :- 108.4\n",
            "Please Enter price or Press 'q'/'Q' ?\n",
            "46.68\n",
            "Last entered price is   :-  46.68\n",
            "Total till last item is :- 155.08\n",
            "Please Enter price or Press 'q'/'Q' ?\n",
            "0\n",
            "Last entered price is   :-  0.0\n",
            "Total till last item is :- 155.08\n",
            "Please Enter price or Press 'q'/'Q' ?\n",
            "\n"
          ],
          "name": "stdout"
        },
        {
          "output_type": "error",
          "ename": "ValueError",
          "evalue": "ignored",
          "traceback": [
            "\u001b[0;31m---------------------------------------------------------------------------\u001b[0m",
            "\u001b[0;31mValueError\u001b[0m                                Traceback (most recent call last)",
            "\u001b[0;32m<ipython-input-2-7472606fbab3>\u001b[0m in \u001b[0;36m<module>\u001b[0;34m()\u001b[0m\n\u001b[1;32m     12\u001b[0m \u001b[0;34m\u001b[0m\u001b[0m\n\u001b[1;32m     13\u001b[0m  \u001b[0;32melse\u001b[0m\u001b[0;34m:\u001b[0m\u001b[0;34m\u001b[0m\u001b[0;34m\u001b[0m\u001b[0m\n\u001b[0;32m---> 14\u001b[0;31m    \u001b[0muser_input\u001b[0m\u001b[0;34m=\u001b[0m\u001b[0mfloat\u001b[0m\u001b[0;34m(\u001b[0m\u001b[0muser_input\u001b[0m\u001b[0;34m)\u001b[0m\u001b[0;34m\u001b[0m\u001b[0;34m\u001b[0m\u001b[0m\n\u001b[0m\u001b[1;32m     15\u001b[0m \u001b[0;34m\u001b[0m\u001b[0m\n\u001b[1;32m     16\u001b[0m    \u001b[0mprint\u001b[0m\u001b[0;34m(\u001b[0m\u001b[0;34m\"Last entered price is   :- \"\u001b[0m\u001b[0;34m,\u001b[0m\u001b[0muser_input\u001b[0m\u001b[0;34m)\u001b[0m\u001b[0;34m\u001b[0m\u001b[0;34m\u001b[0m\u001b[0m\n",
            "\u001b[0;31mValueError\u001b[0m: could not convert string to float: "
          ]
        }
      ]
    },
    {
      "cell_type": "code",
      "metadata": {
        "id": "8N34aieHM_HK"
      },
      "source": [
        "530\"]]\n",
        "'\""
      ],
      "execution_count": null,
      "outputs": []
    }
  ]
}